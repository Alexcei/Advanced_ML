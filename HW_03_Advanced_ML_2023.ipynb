{
 "cells": [
  {
   "cell_type": "markdown",
   "id": "bcd3ef5a",
   "metadata": {},
   "source": [
    "## Advanced ML: Домашнее задание 3"
   ]
  },
  {
   "cell_type": "markdown",
   "id": "1ea874bc",
   "metadata": {},
   "source": [
    "1. Реализуйте базовый частотный метод по Шерлоку Холмсу:\n",
    "* подсчитайте частоты букв по корпусам (пунктуацию и капитализацию можно просто опустить, а вот пробелы лучше оставить);\n",
    "* возьмите какие-нибудь тестовые тексты (нужно взять по меньшей мере 2-3 предложения, иначе вряд ли сработает), зашифруйте их посредством случайной перестановки символов;\n",
    "* расшифруйте их таким частотным методом."
   ]
  },
  {
   "cell_type": "code",
   "execution_count": 59,
   "id": "5f97463c",
   "metadata": {},
   "outputs": [],
   "source": [
    "import re\n",
    "import random\n",
    "\n",
    "import numpy as np\n",
    "\n",
    "from collections import Counter\n",
    "from Levenshtein import distance as lev"
   ]
  },
  {
   "cell_type": "code",
   "execution_count": 30,
   "id": "335334de",
   "metadata": {},
   "outputs": [],
   "source": [
    "def read_file(file_name):\n",
    "    with open(file_name, 'r', encoding='utf-8') as file:\n",
    "        text = file.read()\n",
    "        \n",
    "    text = re.sub(r'[^А-Яа-я\\s]', '', text)\n",
    "    return text.lower().replace('\\n', ' ')"
   ]
  },
  {
   "cell_type": "code",
   "execution_count": 31,
   "id": "33da545d",
   "metadata": {},
   "outputs": [],
   "source": [
    "AnnaKarenina = read_file('text/AnnaKarenina.txt')\n",
    "WarAndPeace = read_file('text/WarAndPeace.txt')"
   ]
  },
  {
   "cell_type": "code",
   "execution_count": 32,
   "id": "d916b42b",
   "metadata": {},
   "outputs": [],
   "source": [
    "frequencies_anna = Counter(AnnaKarenina)\n",
    "frequencies_war = Counter(WarAndPeace)"
   ]
  },
  {
   "cell_type": "code",
   "execution_count": 33,
   "id": "5a24d0d4",
   "metadata": {},
   "outputs": [
    {
     "data": {
      "text/plain": [
       "[(' ', 307969),\n",
       " ('о', 162409),\n",
       " ('е', 123650),\n",
       " ('а', 117104),\n",
       " ('н', 98139),\n",
       " ('и', 93874),\n",
       " ('т', 84639),\n",
       " ('с', 75124),\n",
       " ('л', 70914),\n",
       " ('в', 66562)]"
      ]
     },
     "execution_count": 33,
     "metadata": {},
     "output_type": "execute_result"
    }
   ],
   "source": [
    "frequencies_anna.most_common()[:10]"
   ]
  },
  {
   "cell_type": "code",
   "execution_count": 34,
   "id": "c6fc9984",
   "metadata": {},
   "outputs": [
    {
     "data": {
      "text/plain": [
       "[(' ', 117324),\n",
       " ('о', 61282),\n",
       " ('а', 45209),\n",
       " ('е', 42519),\n",
       " ('и', 35838),\n",
       " ('н', 35119),\n",
       " ('т', 30619),\n",
       " ('с', 28128),\n",
       " ('л', 27277),\n",
       " ('в', 24824)]"
      ]
     },
     "execution_count": 34,
     "metadata": {},
     "output_type": "execute_result"
    }
   ],
   "source": [
    "frequencies_war.most_common()[:10]"
   ]
  },
  {
   "cell_type": "code",
   "execution_count": 35,
   "id": "38b1762c",
   "metadata": {},
   "outputs": [
    {
     "data": {
      "text/plain": [
       "'по слухам министерство правды заключало в себе три тысячи кабинетов над поверхностью земли и соответствующую корневую систему в недрах в разных концах лондона стояли лишь три еще здания подобного вида и размеров они настолько возвышались над городом что с крыши жилого дома победа можно было видеть все четыре разом в них помещались четыре министерства весь государственный аппарат министерство правды ведавшее информацией образованием досугом и искусствами министерство мира ведавшее войной министерство любви ведавшее охраной порядка и министерство изобилия отвечавшее за экономику на новоязе миниправ минимир минилюб и минизо'"
      ]
     },
     "execution_count": 35,
     "metadata": {},
     "output_type": "execute_result"
    }
   ],
   "source": [
    "example = \"По слухам, министерство правды заключало в себе три тысячи кабинетов над поверхностью земли и соответствующую корневую систему в недрах. В разных концах Лондона стояли лишь три еще здания подобного вида и размеров. Они настолько возвышались над городом, что с крыши жилого дома «Победа» можно было видеть все четыре разом. В них помещались четыре министерства, весь государственный аппарат: министерство правды, ведавшее информацией, образованием, досугом и искусствами; министерство мира, ведавшее войной; министерство любви, ведавшее охраной порядка, и министерство изобилия, отвечавшее за экономику. На новоязе: миниправ, минимир, минилюб и минизо.\"\n",
    "\n",
    "example = re.sub(r'[^А-Яа-я\\s]', '', example).lower()\n",
    "example"
   ]
  },
  {
   "cell_type": "code",
   "execution_count": 36,
   "id": "615884b1",
   "metadata": {},
   "outputs": [],
   "source": [
    "def encode(text):\n",
    "    symbols = list(set(text))\n",
    "    permute_symbols = symbols.copy()\n",
    "    random.shuffle(permute_symbols)\n",
    "    mapping = dict(zip(symbols, permute_symbols))\n",
    "    code_text = [mapping[let] for let in example]\n",
    "    \n",
    "    return ''.join(code_text)"
   ]
  },
  {
   "cell_type": "code",
   "execution_count": 37,
   "id": "a4e49262",
   "metadata": {},
   "outputs": [
    {
     "data": {
      "text/plain": [
       "'пнчхбрвеьчьифихяйцхямнчпцем шчжедбыоебнчмчхйкйчяцичяшхуоичдекифйянмчфе чпнмйцвфнхящычжйьбичичхннямйяхямрытрычднцфймрычхихяйьрчмчфй цевчмчцежфшвчднфсевчбнф нфечхянубичбизщчяцичйтйчж ефиучпн нкфнгнчми ечичцежьйцнмчнфичфехянбщднчмнжмшзебихщчфе чгнцн ньчоянчхчдцшзичаибнгнч ньечпнкй ечьнафнчкшбнчми йящчмхйчойяшцйчцежньчмчфивчпньйтебихщчойяшцйчьифихяйцхямечмйхщчгнхр ецхямйффшючеппецеячьифихяйцхямнчпцем шчмй емзййчифэнцьесийючнкцежнмефийьч нхргньчичихдрххямеьичьифихяйцхямнчьицечмй емзййчмнюфнючьифихяйцхямнчбыкмичмй емзййчнвцефнючпнцу дечичьифихяйцхямнчижнкибиучнямйоемзййчжечлднфньидрчфечфнмнужйчьифипцемчьифиьицчьифибыкчичьифижн'"
      ]
     },
     "execution_count": 37,
     "metadata": {},
     "output_type": "execute_result"
    }
   ],
   "source": [
    "example_code = encode(example)\n",
    "example_code"
   ]
  },
  {
   "cell_type": "code",
   "execution_count": 38,
   "id": "81e71a9b",
   "metadata": {},
   "outputs": [
    {
     "data": {
      "text/plain": [
       "'уо сдгыир ратаслевслно увинкп миядзйидо н сеье лва лпсжйа яиьателон тик уоневытослбз мерда а соолнелслнгзюгз яовтенгз саслерг н теквиы н вимтпы яотциы доткоти сложда дачб лва еюе мкитаж уокоьтошо наки а вимревон ота тислодбяо номнпчидасб тик шовокор йло с явпча эадошо кори уоьеки роэто ьпдо накелб нсе йелпве вимор н таы уореюидасб йелпве ратаслевслни несб шосгкивслнеттпх иууивил ратаслевслно увинкп некинчее атщоврицаех оьвимонитаер косгшор а асягсслнира ратаслевслно рави некинчее нохтох ратаслевслно дзьна некинчее оывитох уовжкяи а ратаслевслно амоьадаж олнейинчее ми фяотораяг ти тоножме ратаувин ратарав ратадзь а ратамо'"
      ]
     },
     "execution_count": 38,
     "metadata": {},
     "output_type": "execute_result"
    }
   ],
   "source": [
    "def dict_sort(d):\n",
    "        return dict(sorted(d.items(), key=lambda x: x[1], reverse=True))\n",
    "\n",
    "def decode(example, frequencies):\n",
    "    example_list = list(dict_sort(Counter(example)))\n",
    "    right_list = list(dict_sort(frequencies))\n",
    "\n",
    "    res = []\n",
    "    for let in example_code:\n",
    "        i = example_list.index(let)\n",
    "        res.append(right_list[i])\n",
    "\n",
    "    return ''.join(res)\n",
    "\n",
    "decode_example = decode(example_code, frequencies_war)\n",
    "decode_example"
   ]
  },
  {
   "cell_type": "code",
   "execution_count": 39,
   "id": "42c4fef7",
   "metadata": {},
   "outputs": [
    {
     "name": "stdout",
     "output_type": "stream",
     "text": [
      "Расстояние Левенштейна между оригиналом и декодированным текстами: 407\n",
      "Расстояние Левенштейна между оригиналом и кодированным текстами: 553\n"
     ]
    }
   ],
   "source": [
    "print('Расстояние Левенштейна между оригиналом и декодированным текстами:', lev(example, decode_example))\n",
    "print('Расстояние Левенштейна между оригиналом и кодированным текстами:', lev(example, example_code))"
   ]
  },
  {
   "cell_type": "markdown",
   "id": "15252294",
   "metadata": {},
   "source": [
    "2. Вряд ли в результате получилась такая уж хорошая расшифровка, разве что если вы брали в качестве тестовых данных целые рассказы. Но и Шерлок Холмс был не так уж прост: после буквы E, которая действительно выделяется частотой, дальше он анализировал уже конкретные слова и пытался угадать, какими они могли бы быть. Я не знаю, как запрограммировать такой интуитивный анализ, так что давайте просто сделаем следующий логический шаг:\n",
    "* подсчитайте частоты биграмм (т.е. пар последовательных букв) по корпусам;\n",
    "* проведите тестирование аналогично п.1, но при помощи биграмм.\n"
   ]
  },
  {
   "cell_type": "code",
   "execution_count": 40,
   "id": "56f2751a",
   "metadata": {},
   "outputs": [],
   "source": [
    "def get_bi_frequencies(text):\n",
    "    digrams = Counter()\n",
    "    start = 0\n",
    "    size = 2\n",
    "    for i in range(size, len(text), size):\n",
    "        digrams[text[start: i]] += 1\n",
    "        start = i\n",
    "\n",
    "    return digrams\n",
    "\n",
    "frequencies_anna = get_bi_frequencies(AnnaKarenina)\n",
    "frequencies_war = get_bi_frequencies(WarAndPeace)"
   ]
  },
  {
   "cell_type": "code",
   "execution_count": 41,
   "id": "101a8306",
   "metadata": {},
   "outputs": [
    {
     "data": {
      "text/plain": [
       "[('о ', 19931),\n",
       " ('е ', 15776),\n",
       " ('а ', 15592),\n",
       " ('и ', 15502),\n",
       " (' с', 13753),\n",
       " (' н', 13665),\n",
       " ('  ', 13125),\n",
       " (' в', 12560),\n",
       " ('то', 12130),\n",
       " (' п', 11792)]"
      ]
     },
     "execution_count": 41,
     "metadata": {},
     "output_type": "execute_result"
    }
   ],
   "source": [
    "frequencies_anna.most_common()[:10]"
   ]
  },
  {
   "cell_type": "code",
   "execution_count": 42,
   "id": "d35f8ada",
   "metadata": {},
   "outputs": [
    {
     "data": {
      "text/plain": [
       "[('  ', 6988),\n",
       " ('о ', 6793),\n",
       " ('и ', 5732),\n",
       " ('а ', 5365),\n",
       " ('е ', 5129),\n",
       " (' с', 4992),\n",
       " (' п', 4870),\n",
       " (' в', 4815),\n",
       " (' н', 4744),\n",
       " ('то', 4175)]"
      ]
     },
     "execution_count": 42,
     "metadata": {},
     "output_type": "execute_result"
    }
   ],
   "source": [
    "frequencies_war.most_common()[:10]"
   ]
  },
  {
   "cell_type": "code",
   "execution_count": 43,
   "id": "5e594a20",
   "metadata": {},
   "outputs": [],
   "source": [
    "def encode(text, size=2):\n",
    "    symbols = list(get_bi_frequencies(text).keys())\n",
    "    permute_symbols = symbols.copy()\n",
    "    random.shuffle(permute_symbols)\n",
    "    mapping = dict(zip(symbols, permute_symbols))\n",
    "\n",
    "    start = 0\n",
    "    bigrams = []\n",
    "    for i in range(size, len(text), size):\n",
    "        bigrams.append(mapping[text[start: i]])\n",
    "        start = i\n",
    "    \n",
    "    return ''.join(bigrams)"
   ]
  },
  {
   "cell_type": "code",
   "execution_count": 44,
   "id": "65f0c803",
   "metadata": {},
   "outputs": [
    {
     "data": {
      "text/plain": [
       "'овонылщезввех амниамомы зеин лроб иржибеапгоете ейе ю ожькповддевшаперсиова себрамючлюооисчаонколув амкррхшеойрсдекри енамоохаапдепао икказоазиелимио до пэкеронвш зькиснее ейахышлюячх  ковэк идабенояччаказод драп пькерамемщабеомь тьжисьсуерси сдрэкзвнабеялбнтьькт ог сзавоциоветячнцй брма чбеномеавикгос в  еоязекузвапх иеовд м ислос в  еоявех амниамьюикклсу сдкяч тлуипазееныризеесвех амниамомы зеин ла ячанстчаолрснфыр ооху зо дбивазвэкдк сзвьксьтвшьлу ньквех амниамомнцр циа ячанстикрабреевех амниамомдоуюноикви бедоя мзебрееовотющциьквех амниамомчакувдис ксса  ранстлюцичт пвоорхаерал дюбя нцыстозеапвех вевувех  вряьквех '"
      ]
     },
     "execution_count": 44,
     "metadata": {},
     "output_type": "execute_result"
    }
   ],
   "source": [
    "example_code = encode(example)\n",
    "example_code"
   ]
  },
  {
   "cell_type": "code",
   "execution_count": 45,
   "id": "325af444",
   "metadata": {},
   "outputs": [
    {
     "data": {
      "text/plain": [
       "'  о и а е  с п в н вто оя  к исть нагоалпораненоконоовл й ка бм вопоерро  онол т вотни досу о енлало влиорв елрем липрва в д мпом тазаанри г чтьк омзаатилскеро воогй ост нокон одниде пак  сктеы ал рдеу ри гве зпоилй ер вдаазалтоем егоасдоерроле зске жеалс  у ей етбылечтойми  недеесмо твильал рю еганратилоавитя няе по пть  весьосинтилоавит с п в н вруанх долеобденылаче чвссяння тр с п в н вто оя  к иондеимису  аремемаараяди гвыамсее скоблее й асну ллапей  с п в н втоескимиондеимисанив твс с п в н втоатед ранейкн эитсоя  твс  слылмий  с п в н втоу ня босакхоониеимиснимибоилойэт мермувышечаесадтвя по с п сое с пдрший  с'"
      ]
     },
     "execution_count": 45,
     "metadata": {},
     "output_type": "execute_result"
    }
   ],
   "source": [
    "def decode(example, frequencies, size=2):\n",
    "    example_list = list(get_bi_frequencies(example).keys())\n",
    "    right_list = list(dict_sort(frequencies_war))\n",
    "\n",
    "    res = []\n",
    "    start = 0\n",
    "    for i in range(size, len(example), size):\n",
    "        index = example_list.index(example[start: i])\n",
    "        res.append(right_list[index])\n",
    "        start = i\n",
    "\n",
    "    return ''.join(res)\n",
    "\n",
    "decode_example = decode(example_code, frequencies_war)\n",
    "decode_example"
   ]
  },
  {
   "cell_type": "code",
   "execution_count": 46,
   "id": "c6eb1ea8",
   "metadata": {},
   "outputs": [
    {
     "name": "stdout",
     "output_type": "stream",
     "text": [
      "Расстояние Левенштейна между оригиналом и декодированным текстами: 507\n",
      "Расстояние Левенштейна между оригиналом и кодированным текстами: 530\n"
     ]
    }
   ],
   "source": [
    "print('Расстояние Левенштейна между оригиналом и декодированным текстами:', lev(example, decode_example))\n",
    "print('Расстояние Левенштейна между оригиналом и кодированным текстами:', lev(example, example_code))"
   ]
  },
  {
   "cell_type": "code",
   "execution_count": 47,
   "id": "42c17a08",
   "metadata": {},
   "outputs": [],
   "source": [
    "# Получилось сильно хуже(\n",
    "# Пробовал без пробелов, получилось тоже самое"
   ]
  },
  {
   "cell_type": "code",
   "execution_count": 100,
   "id": "2ec795be",
   "metadata": {},
   "outputs": [
    {
     "data": {
      "text/plain": [
       "[('  ', 13917),\n",
       " ('о ', 13316),\n",
       " ('и ', 11397),\n",
       " ('а ', 10596),\n",
       " ('е ', 10039),\n",
       " (' с', 9863),\n",
       " (' п', 9767),\n",
       " (' в', 9611),\n",
       " (' н', 9347),\n",
       " ('то', 8491)]"
      ]
     },
     "execution_count": 100,
     "metadata": {},
     "output_type": "execute_result"
    }
   ],
   "source": [
    "# Попробую другой способ создания биграмм (с шагом 1)\n",
    "def get_bigrams(text):\n",
    "    res = []\n",
    "    for i in range(0, len(text), 1):\n",
    "        res.append(text[i:i + 2] )\n",
    "    return res\n",
    "\n",
    "frequencies_war = Counter(get_bigrams(WarAndPeace))\n",
    "\n",
    "frequencies_war.most_common()[:10]"
   ]
  },
  {
   "cell_type": "code",
   "execution_count": 101,
   "id": "7e87e420",
   "metadata": {},
   "outputs": [
    {
     "data": {
      "text/plain": [
       "'т рсв ялзмшьссы щаы сеязвучезн в мющчиева  к зюбещюбыхаханцадожиейа ю едт иеу  лы ниацотудпарсоямиозы ыйуг ившряжиыйриобы отяча жи жкаамхабили гбншикаолориню рсейкланудбыюбещмоасацйнсс пт инухалевосйнпахабибрпра ораню ы охдаевсеусапчиабваю едерпринзмй евакзеапаникмаеркуючипт  зйнмуиз лратьевосиялоам ккоозсяе вундзма сс гт брылудожкоозсяе шьссы щаы ныамдываерскйнавмитслир помлвуошьссы щаы сеязвучезниейно еспанцряькб тотвдкбиадодзозминскерзманабвссуми наншьссы щаы семунеипиейно есамар лр шьссы щаы сеолооосамь и сье луву лр т иречипаншьссы щаы сепанддоуд пуюиеишо есаципаторючнаячю омадихьюмусоговуа шьссшьовшьссвднфаншьсс'"
      ]
     },
     "execution_count": 101,
     "metadata": {},
     "output_type": "execute_result"
    }
   ],
   "source": [
    "def encode(text, size=2):\n",
    "    symbols = list(Counter(get_bigrams(text)).keys())\n",
    "    permute_symbols = symbols.copy()\n",
    "    random.shuffle(permute_symbols)\n",
    "    mapping = dict(zip(symbols, permute_symbols))\n",
    "\n",
    "    start = 0\n",
    "    bigrams = []\n",
    "    for i in range(size, len(text), size):\n",
    "        bigrams.append(mapping[text[start: i]])\n",
    "        start = i\n",
    "    \n",
    "    return ''.join(bigrams)\n",
    "\n",
    "example_code = encode(example)\n",
    "example_code"
   ]
  },
  {
   "cell_type": "code",
   "execution_count": 104,
   "id": "3a8fd58e",
   "metadata": {},
   "outputs": [
    {
     "data": {
      "text/plain": [
       "' нкаакдеали о   я    п з и еемасшиту бнеь жес в ойв спета ихвопр дь нодо нстлько   мтариро вкадуер т  ю тыраегняпрю  гее  риить прсьиновпоанх руусшаинныилнинока двна роелв ойр ужтагоо к  нниуглынетьго впоанисмаь ила но  ичпане пмеар бонм нодоосманиалмннежиькара обй осцевыу  нс госкгакоомжннетьнь човжеив т эт  иедаль о ру ниссмромоив т эт и о   я   ашовагм осейговлеречх лотнял иясе то о к сведааз у м дбонагда узаеылмуриэтылзавоие тер арьвуй лиамо гуенлиоте то о к соипечааю дбонал й лоогтее то о к сыс члал айра с лкозвльогмурапи б воте то о к сбиа оюачапешсучаплнал сн вшеучзопуиролй абдыщимеещадрттее фиииеге ы ждояоте '"
      ]
     },
     "execution_count": 104,
     "metadata": {},
     "output_type": "execute_result"
    }
   ],
   "source": [
    "def decode(example, frequencies, size=2):\n",
    "    example_list = list(dict_sort(Counter(get_bigrams(example))).keys())\n",
    "    right_list = list(dict_sort(frequencies_war))\n",
    "\n",
    "    res = []\n",
    "    start = 0\n",
    "    for i in range(size, len(example), size):\n",
    "        index = example_list.index(example[start: i])\n",
    "        res.append(right_list[index])\n",
    "        start = i\n",
    "\n",
    "    return ''.join(res)\n",
    "\n",
    "decode_example = decode(example_code, frequencies_war)\n",
    "decode_example"
   ]
  },
  {
   "cell_type": "code",
   "execution_count": 105,
   "id": "eb8b6cd6",
   "metadata": {},
   "outputs": [
    {
     "name": "stdout",
     "output_type": "stream",
     "text": [
      "Расстояние Левенштейна между оригиналом и декодированным текстами: 508\n",
      "Расстояние Левенштейна между оригиналом и кодированным текстами: 535\n"
     ]
    }
   ],
   "source": [
    "print('Расстояние Левенштейна между оригиналом и декодированным текстами:', lev(example, decode_example))\n",
    "print('Расстояние Левенштейна между оригиналом и кодированным текстами:', lev(example, example_code))"
   ]
  },
  {
   "cell_type": "code",
   "execution_count": 24,
   "id": "977831e3",
   "metadata": {},
   "outputs": [],
   "source": [
    "# Лучше не стало, думаю это из-за того что биграмм сильно больше в корпусе чем в тестовой фразе"
   ]
  },
  {
   "cell_type": "markdown",
   "id": "4149b71c",
   "metadata": {},
   "source": [
    "3. Но и это ещё не всё: биграммы скорее всего тоже далеко не всегда работают. Основная часть задания — в том, как можно их улучшить:\n",
    "* предложите метод обучения перестановки символов в этом задании, основанный на MCMC-сэмплировании, но по-прежнему работающий на основе статистики биграмм;\n",
    "* реализуйте и протестируйте его, убедитесь, что результаты улучшились."
   ]
  },
  {
   "cell_type": "code",
   "execution_count": 146,
   "id": "785d53a0",
   "metadata": {},
   "outputs": [],
   "source": [
    "example_list = list(dict_sort(Counter(get_bigrams(example_code))))"
   ]
  },
  {
   "cell_type": "code",
   "execution_count": 147,
   "id": "7efa9d8f",
   "metadata": {},
   "outputs": [],
   "source": [
    "def decode(example, frequencies, example_list, size=2):\n",
    "    right_list = list(dict_sort(frequencies))\n",
    "\n",
    "    res = []\n",
    "    start = 0\n",
    "    for i in range(size, len(example), size):\n",
    "        index = example_list.index(example[start: i])\n",
    "        res.append(right_list[index])\n",
    "        start = i\n",
    "\n",
    "    return ''.join(res)\n",
    "\n",
    "\n",
    "def calc_score(text, bigram_cnt):    \n",
    "    bigrams = get_bigrams(text)\n",
    "    score = 0\n",
    "    for bigram in bigrams:\n",
    "        score += np.log(bigram_cnt.get(bigram, 1 / len(bigrams)))\n",
    "    return score"
   ]
  },
  {
   "cell_type": "code",
   "execution_count": null,
   "id": "ca1d2fb9",
   "metadata": {},
   "outputs": [
    {
     "name": "stdout",
     "output_type": "stream",
     "text": [
      "-932.6642389306573\n",
      "-96.1270827621151\n",
      "172.52482413026752\n",
      "254.67428429815797\n",
      "343.8887956226525\n",
      "388.24970863786143\n",
      "418.50937168092304\n",
      "441.4575090210077\n",
      "471.4534588055174\n",
      "487.36255798076274\n",
      "520.0249597334075\n",
      "555.0796142445545\n",
      "568.0909002246005\n",
      "576.8578065629304\n",
      "591.331577042454\n",
      "608.9641345761186\n",
      "622.5595270612041\n",
      "634.7570297560513\n",
      "641.8434718763308\n",
      "654.869848534926\n",
      "660.9901459538769\n",
      "664.0287336560806\n",
      "671.8948534490725\n",
      "674.0221876901992\n",
      "674.9229742355374\n",
      "682.8350311237164\n",
      "684.2213254848361\n"
     ]
    }
   ],
   "source": [
    "score = float('-inf')\n",
    "\n",
    "train_bigrams = dict_sort(Counter(get_bigrams(example)))\n",
    "\n",
    "for iterat in range(30000):\n",
    "    a, b = random.choices(range(len(example_list)), k=2)\n",
    "\n",
    "    example_list[a], example_list[b] = example_list[b], example_list[a]\n",
    "\n",
    "    decode_example = decode(example_code, frequencies_war, example_list)\n",
    "\n",
    "    new_score = calc_score(decode_example, train_bigrams)\n",
    "    if new_score > score:\n",
    "        score = new_score\n",
    "    else:\n",
    "        example_list[a], example_list[b] = example_list[b], example_list[a]\n",
    "        \n",
    "    if iterat % 1000 == 0:\n",
    "        print(score)"
   ]
  },
  {
   "cell_type": "code",
   "execution_count": null,
   "id": "f0e92d90",
   "metadata": {},
   "outputs": [],
   "source": [
    "decode_example"
   ]
  },
  {
   "cell_type": "code",
   "execution_count": null,
   "id": "8ceb5a5a",
   "metadata": {},
   "outputs": [],
   "source": [
    "print('Расстояние Левенштейна между оригиналом и декодированным текстами:', lev(example, decode_example))\n",
    "print('Расстояние Левенштейна между оригиналом и кодированным текстами:', lev(example, example_code))"
   ]
  },
  {
   "cell_type": "markdown",
   "id": "3b92c9c6",
   "metadata": {},
   "source": [
    "4. Расшифруйте сообщение:\n",
    "\n",
    "←⇠⇒↟↹↷⇊↹↷↟↤↟↨←↹↝⇛⇯↳⇴⇒⇈↝⇊↾↹↟⇒↟↹⇷⇛⇞↨↟↹↝⇛⇯↳⇴⇒⇈↝⇊↾↹↨←⇌⇠↨↹⇙↹⇸↨⇛↙⇛↹⇠⇛⇛↲⇆←↝↟↞↹⇌⇛↨⇛⇯⇊↾↹⇒←↙⇌⇛↹⇷⇯⇛⇞↟↨⇴↨⇈↹⇠⇌⇛⇯←←↹↷⇠←↙⇛↹↷⇊↹↷⇠←↹⇠↤←⇒⇴⇒↟↹⇷⇯⇴↷↟⇒⇈↝⇛↹↟↹⇷⇛⇒⇙⇞↟↨←↹↳⇴⇌⇠↟↳⇴⇒⇈↝⇊↾↹↲⇴⇒⇒↹⇰⇴↹⇷⇛⇠⇒←↤↝←←↹⇞←↨↷←⇯↨⇛←↹⇰⇴↤⇴↝↟←↹⇌⇙⇯⇠⇴↹↘⇛↨↞↹⇌⇛↝←⇞↝⇛↹↞↹↝↟⇞←↙⇛↹↝←↹⇛↲←⇆⇴⇏  \n",
    "\n",
    "Или это (они одинаковые, второй вариант просто на случай проблем с юникодом):  \n",
    "დჳჵჂႨშႼႨშჂხჂჲდႨსႹႭჾႣჵისႼჰႨჂჵჂႨႲႹႧჲჂႨსႹႭჾႣჵისႼჰႨჲდႩჳჲႨჇႨႠჲႹქႹႨჳႹႹჱჶდსჂႽႨႩႹჲႹႭႼჰႨჵდქႩႹႨႲႭႹႧჂჲႣჲიႨჳႩႹႭდდႨშჳდქႹႨშႼႨშჳდႨჳხდჵႣჵჂႨႲႭႣშჂჵისႹႨჂႨႲႹჵჇႧჂჲდႨჾႣႩჳჂჾႣჵისႼჰႨჱႣჵჵႨეႣႨႲႹჳჵდხსდდႨႧდჲშდႭჲႹდႨეႣხႣსჂდႨႩჇႭჳႣႨႾႹჲႽႨႩႹსდႧსႹႨႽႨსჂႧდქႹႨსდႨႹჱდჶႣნ\n"
   ]
  },
  {
   "cell_type": "code",
   "execution_count": null,
   "id": "ca46ae7a",
   "metadata": {},
   "outputs": [],
   "source": []
  },
  {
   "cell_type": "code",
   "execution_count": null,
   "id": "9ff6ae0f",
   "metadata": {},
   "outputs": [],
   "source": []
  },
  {
   "cell_type": "code",
   "execution_count": null,
   "id": "afacf617",
   "metadata": {},
   "outputs": [],
   "source": []
  }
 ],
 "metadata": {
  "kernelspec": {
   "display_name": "Python 3 (ipykernel)",
   "language": "python",
   "name": "python3"
  },
  "language_info": {
   "codemirror_mode": {
    "name": "ipython",
    "version": 3
   },
   "file_extension": ".py",
   "mimetype": "text/x-python",
   "name": "python",
   "nbconvert_exporter": "python",
   "pygments_lexer": "ipython3",
   "version": "3.9.7"
  }
 },
 "nbformat": 4,
 "nbformat_minor": 5
}

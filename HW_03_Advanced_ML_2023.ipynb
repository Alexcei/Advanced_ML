{
 "cells": [
  {
   "cell_type": "markdown",
   "id": "bcd3ef5a",
   "metadata": {},
   "source": [
    "## Advanced ML: Домашнее задание 3"
   ]
  },
  {
   "cell_type": "markdown",
   "id": "1ea874bc",
   "metadata": {},
   "source": [
    "1. Реализуйте базовый частотный метод по Шерлоку Холмсу:\n",
    "* подсчитайте частоты букв по корпусам (пунктуацию и капитализацию можно просто опустить, а вот пробелы лучше оставить);\n",
    "* возьмите какие-нибудь тестовые тексты (нужно взять по меньшей мере 2-3 предложения, иначе вряд ли сработает), зашифруйте их посредством случайной перестановки символов;\n",
    "* расшифруйте их таким частотным методом."
   ]
  },
  {
   "cell_type": "code",
   "execution_count": 69,
   "id": "5f97463c",
   "metadata": {},
   "outputs": [],
   "source": [
    "import re\n",
    "import random\n",
    "\n",
    "from collections import Counter\n",
    "from Levenshtein import distance as lev"
   ]
  },
  {
   "cell_type": "code",
   "execution_count": 70,
   "id": "335334de",
   "metadata": {},
   "outputs": [],
   "source": [
    "def read_file(file_name):\n",
    "    with open(file_name, 'r', encoding='utf-8') as file:\n",
    "        text = file.read()\n",
    "        \n",
    "    text = re.sub(r'[^А-Яа-я\\s]', '', text)\n",
    "    return text.lower().replace('\\n', ' ')"
   ]
  },
  {
   "cell_type": "code",
   "execution_count": 71,
   "id": "33da545d",
   "metadata": {},
   "outputs": [],
   "source": [
    "AnnaKarenina = read_file('text/AnnaKarenina.txt')\n",
    "WarAndPeace = read_file('text/WarAndPeace.txt')"
   ]
  },
  {
   "cell_type": "code",
   "execution_count": 72,
   "id": "d916b42b",
   "metadata": {},
   "outputs": [],
   "source": [
    "frequencies_anna = Counter(AnnaKarenina)\n",
    "frequencies_war = Counter(WarAndPeace)"
   ]
  },
  {
   "cell_type": "code",
   "execution_count": 73,
   "id": "5a24d0d4",
   "metadata": {},
   "outputs": [
    {
     "data": {
      "text/plain": [
       "[(' ', 307969),\n",
       " ('о', 162409),\n",
       " ('е', 123650),\n",
       " ('а', 117104),\n",
       " ('н', 98139),\n",
       " ('и', 93874),\n",
       " ('т', 84639),\n",
       " ('с', 75124),\n",
       " ('л', 70914),\n",
       " ('в', 66562)]"
      ]
     },
     "execution_count": 73,
     "metadata": {},
     "output_type": "execute_result"
    }
   ],
   "source": [
    "frequencies_anna.most_common()[:10]"
   ]
  },
  {
   "cell_type": "code",
   "execution_count": 74,
   "id": "c6fc9984",
   "metadata": {},
   "outputs": [
    {
     "data": {
      "text/plain": [
       "[(' ', 117324),\n",
       " ('о', 61282),\n",
       " ('а', 45209),\n",
       " ('е', 42519),\n",
       " ('и', 35838),\n",
       " ('н', 35119),\n",
       " ('т', 30619),\n",
       " ('с', 28128),\n",
       " ('л', 27277),\n",
       " ('в', 24824)]"
      ]
     },
     "execution_count": 74,
     "metadata": {},
     "output_type": "execute_result"
    }
   ],
   "source": [
    "frequencies_war.most_common()[:10]"
   ]
  },
  {
   "cell_type": "code",
   "execution_count": 75,
   "id": "38b1762c",
   "metadata": {},
   "outputs": [
    {
     "data": {
      "text/plain": [
       "'по слухам министерство правды заключало в себе три тысячи кабинетов над поверхностью земли и соответствующую корневую систему в недрах в разных концах лондона стояли лишь три еще здания подобного вида и размеров они настолько возвышались над городом что с крыши жилого дома победа можно было видеть все четыре разом в них помещались четыре министерства весь государственный аппарат министерство правды ведавшее информацией образованием досугом и искусствами министерство мира ведавшее войной министерство любви ведавшее охраной порядка и министерство изобилия отвечавшее за экономику на новоязе миниправ минимир минилюб и минизо'"
      ]
     },
     "execution_count": 75,
     "metadata": {},
     "output_type": "execute_result"
    }
   ],
   "source": [
    "example = \"По слухам, министерство правды заключало в себе три тысячи кабинетов над поверхностью земли и соответствующую корневую систему в недрах. В разных концах Лондона стояли лишь три еще здания подобного вида и размеров. Они настолько возвышались над городом, что с крыши жилого дома «Победа» можно было видеть все четыре разом. В них помещались четыре министерства, весь государственный аппарат: министерство правды, ведавшее информацией, образованием, досугом и искусствами; министерство мира, ведавшее войной; министерство любви, ведавшее охраной порядка, и министерство изобилия, отвечавшее за экономику. На новоязе: миниправ, минимир, минилюб и минизо.\"\n",
    "\n",
    "example = re.sub(r'[^А-Яа-я\\s]', '', example).lower()\n",
    "example"
   ]
  },
  {
   "cell_type": "code",
   "execution_count": 76,
   "id": "615884b1",
   "metadata": {},
   "outputs": [],
   "source": [
    "def encode(text):\n",
    "    symbols = list(set(text))\n",
    "    permute_symbols = symbols.copy()\n",
    "    random.shuffle(permute_symbols)\n",
    "    mapping = dict(zip(symbols, permute_symbols))\n",
    "    code_text = [mapping[let] for let in example]\n",
    "    \n",
    "    return ''.join(code_text)"
   ]
  },
  {
   "cell_type": "code",
   "execution_count": 77,
   "id": "a4e49262",
   "metadata": {},
   "outputs": [
    {
     "data": {
      "text/plain": [
       "'кжнрс юпьньцйцрхзырхижнкыпивмншпдсэопсжнинрзфзнхыцнхмргоцндпфцйзхжинйпвнкжизыюйжрхбэншзьсцнцнржжхизхрхи эщ энджыйзи энрцрхзь нинйзвыпюниныпшймюнджйапюнсжйвжйпнрхжгсцнсцчбнхыцнзщзншвпйцгнкжвжфйжяжницвпнцныпшьзыжинжйцнйпрхжсбджнижшимчпсцрбнйпвняжыжвжьнохжнрндымчцнецсжяжнвжьпнкжфзвпньжейжнфмсжницвзхбнирзнозхмызныпшжьнинйцюнкжьзщпсцрбнозхмызньцйцрхзырхипнизрбняжр впырхизйймлнпккпыпхньцйцрхзырхижнкыпивмнизвпичззнцйтжыьпацзлнжфыпшжипйцзьнвжр яжьнцнцрд ррхипьцньцйцрхзырхижньцыпнизвпичззнижлйжлньцйцрхзырхижнсэфицнизвпичззнжюыпйжлнкжыгвдпнцньцйцрхзырхижнцшжфцсцгнжхизопичззншпнуджйжьцд нйпнйжижгшзньцйцкыпиньцйцьцыньцйцсэфнцньцйцшж'"
      ]
     },
     "execution_count": 77,
     "metadata": {},
     "output_type": "execute_result"
    }
   ],
   "source": [
    "example_code = encode(example)\n",
    "example_code"
   ]
  },
  {
   "cell_type": "code",
   "execution_count": 86,
   "id": "81e71a9b",
   "metadata": {},
   "outputs": [
    {
     "data": {
      "text/plain": [
       "'уо сдгыир ратаслевслно увинкп миядзйидо н сеье лва лпсжйа яиьателон тик уоневытослбз мерда а соолнелслнгзюгз яовтенгз саслерг н теквиы н вимтпы яотциы доткоти сложда дачб лва еюе мкитаж уокоьтошо наки а вимревон ота тислодбяо номнпчидасб тик шовокор йло с явпча эадошо кори уоьеки роэто ьпдо накелб нсе йелпве вимор н таы уореюидасб йелпве ратаслевслни несб шосгкивслнеттпх иууивил ратаслевслно увинкп некинчее атщоврицаех оьвимонитаер косгшор а асягсслнира ратаслевслно рави некинчее нохтох ратаслевслно дзьна некинчее оывитох уовжкяи а ратаслевслно амоьадаж олнейинчее ми фяотораяг ти тоножме ратаувин ратарав ратадзь а ратамо'"
      ]
     },
     "execution_count": 86,
     "metadata": {},
     "output_type": "execute_result"
    }
   ],
   "source": [
    "def decode(example, frequencies):\n",
    "    def dict_sort(d):\n",
    "        return dict(sorted(d.items(), key=lambda x: x[1], reverse=True))\n",
    "\n",
    "    example_list = list(dict_sort(Counter(example)))\n",
    "    right_list = list(dict_sort(frequencies))\n",
    "\n",
    "    res = []\n",
    "    for let in example_code:\n",
    "        i = example_list.index(let)\n",
    "        res.append(right_list[i])\n",
    "\n",
    "    return ''.join(res)\n",
    "\n",
    "decode_example = decode(example_code, frequencies_war)\n",
    "decode_example"
   ]
  },
  {
   "cell_type": "code",
   "execution_count": 87,
   "id": "42c4fef7",
   "metadata": {},
   "outputs": [
    {
     "name": "stdout",
     "output_type": "stream",
     "text": [
      "Расстояние Левенштейна между оригиналом и декодированным текстами: 407\n",
      "Расстояние Левенштейна между оригиналом и кодированным текстами: 576\n"
     ]
    }
   ],
   "source": [
    "print('Расстояние Левенштейна между оригиналом и декодированным текстами:', lev(example, decode_example))\n",
    "print('Расстояние Левенштейна между оригиналом и кодированным текстами:', lev(example, example_code))"
   ]
  },
  {
   "cell_type": "markdown",
   "id": "fd6476b4",
   "metadata": {},
   "source": [
    "2. Вряд ли в результате получилась такая уж хорошая расшифровка, разве что если вы брали в качестве тестовых данных целые рассказы. Но и Шерлок Холмс был не так уж прост: после буквы E, которая действительно выделяется частотой, дальше он анализировал уже конкретные слова и пытался угадать, какими они могли бы быть. Я не знаю, как запрограммировать такой интуитивный анализ, так что давайте просто сделаем следующий логический шаг:\n",
    "* подсчитайте частоты биграмм (т.е. пар последовательных букв) по корпусам;\n",
    "* проведите тестирование аналогично п.1, но при помощи биграмм.\n"
   ]
  },
  {
   "cell_type": "code",
   "execution_count": 103,
   "id": "a268244e",
   "metadata": {},
   "outputs": [],
   "source": [
    "def get_bi_frequencies(text):\n",
    "    digrams = Counter()\n",
    "    start = 0\n",
    "    size = 2\n",
    "    for i in range(size, len(text), size):\n",
    "        digrams[text[start: i]] += 1\n",
    "        start = i\n",
    "\n",
    "    return digrams\n",
    "\n",
    "frequencies_anna = get_bi_frequencies(AnnaKarenina)\n",
    "frequencies_war = get_bi_frequencies(WarAndPeace)"
   ]
  },
  {
   "cell_type": "code",
   "execution_count": 104,
   "id": "20aa44f4",
   "metadata": {},
   "outputs": [
    {
     "data": {
      "text/plain": [
       "[('о ', 19931),\n",
       " ('е ', 15776),\n",
       " ('а ', 15592),\n",
       " ('и ', 15502),\n",
       " (' с', 13753),\n",
       " (' н', 13665),\n",
       " ('  ', 13125),\n",
       " (' в', 12560),\n",
       " ('то', 12130),\n",
       " (' п', 11792)]"
      ]
     },
     "execution_count": 104,
     "metadata": {},
     "output_type": "execute_result"
    }
   ],
   "source": [
    "frequencies_anna.most_common()[:10]"
   ]
  },
  {
   "cell_type": "code",
   "execution_count": 105,
   "id": "0a7bd2e2",
   "metadata": {},
   "outputs": [
    {
     "data": {
      "text/plain": [
       "[('  ', 6988),\n",
       " ('о ', 6793),\n",
       " ('и ', 5732),\n",
       " ('а ', 5365),\n",
       " ('е ', 5129),\n",
       " (' с', 4992),\n",
       " (' п', 4870),\n",
       " (' в', 4815),\n",
       " (' н', 4744),\n",
       " ('то', 4175)]"
      ]
     },
     "execution_count": 105,
     "metadata": {},
     "output_type": "execute_result"
    }
   ],
   "source": [
    "frequencies_war.most_common()[:10]"
   ]
  },
  {
   "cell_type": "code",
   "execution_count": 106,
   "id": "2dc75e71",
   "metadata": {},
   "outputs": [],
   "source": [
    "def encode(text, size=2):\n",
    "    symbols = list(get_bi_frequencies(text).keys())\n",
    "    permute_symbols = symbols.copy()\n",
    "    random.shuffle(permute_symbols)\n",
    "    mapping = dict(zip(symbols, permute_symbols))\n",
    "\n",
    "    start = 0\n",
    "    bigrams = []\n",
    "    for i in range(size, len(text), size):\n",
    "        bigrams.append(mapping[text[start: i]])\n",
    "        start = i\n",
    "    \n",
    "    return ''.join(bigrams)"
   ]
  },
  {
   "cell_type": "code",
   "execution_count": 107,
   "id": "2573b97c",
   "metadata": {},
   "outputs": [
    {
     "data": {
      "text/plain": [
       "'лоьюх  выш неркуиекую зоирряпая с дк седкор роживожисивуазмам авниконф илоалющгокуссы етй суьюциючогкущеваонвшахавщеап пкуетнакоавд б крлисьт в но бб ис еь нфьюнищаазй поживоам ды и ерселоь енбредзеи сулисьтое ко еазнфкудоо едю ныин совтьнф иике ь ыштведбеориназолбиик мзвырлорои люклгобнуюедзеристкрр а огу ояир кышкоерв лотоойй  ла огу оя неркуиекурскрестьикееи ялючейт чаэкшьирыл неркуиекую зоирряпаали  р чсу оахнерахаячдрсьипюбохышь ееикышазовооемючшеаз неркуиекую лювеырали  р чкромгоча неркуиекую исанзекрчтысожоязаиргочалолуотыраз неркуиекую су км й секаал з р чы ыр т езввинанфвдипнцмилюдеькирко нер нме нердархаз нер'"
      ]
     },
     "execution_count": 107,
     "metadata": {},
     "output_type": "execute_result"
    }
   ],
   "source": [
    "example_code = encode(example)\n",
    "example_code"
   ]
  },
  {
   "cell_type": "code",
   "execution_count": 108,
   "id": "13981974",
   "metadata": {},
   "outputs": [
    {
     "data": {
      "text/plain": [
       "'  о и а е  с п в н вто оя  к исть нагоалпораненоконоовл й ка бм вопоерро  онол т вотни досу о енлало влиорв елрем липрва в д мпом тазаанри г чтьк омзаатилскеро воогй ост нокон одниде пак  сктеы ал рдеу ри гве зпоилй ер вдаазалтоем егоасдоерроле зске жеалс  у ей етбылечтойми  недеесмо твильал рю еганратилоавитя няе по пть  весьосинтилоавит с п в н вруанх долеобденылаче чвссяння тр с п в н вто оя  к иондеимису  аремемаараяди гвыамсее скоблее й асну ллапей  с п в н втоескимиондеимисанив твс с п в н втоатед ранейкн эитсоя  твс  слылмий  с п в н втоу ня босакхоониеимиснимибоилойэт мермувышечаесадтвя по с п сое с пдрший  с'"
      ]
     },
     "execution_count": 108,
     "metadata": {},
     "output_type": "execute_result"
    }
   ],
   "source": [
    "def decode(example, frequencies, size=2):\n",
    "    def dict_sort(d):\n",
    "        return dict(sorted(d.items(), key=lambda x: x[1], reverse=True))\n",
    "\n",
    "    example_list = list(get_bi_frequencies(example_code).keys())\n",
    "    right_list = list(dict_sort(frequencies_war))\n",
    "\n",
    "    res = []\n",
    "    start = 0\n",
    "    for i in range(size, len(example_code), size):\n",
    "        index = example_list.index(example_code[start: i])\n",
    "        res.append(right_list[index])\n",
    "        start = i\n",
    "\n",
    "    return ''.join(res)\n",
    "\n",
    "decode_example = decode(example_code, frequencies_war)\n",
    "decode_example"
   ]
  },
  {
   "cell_type": "code",
   "execution_count": 109,
   "id": "a4ff85b7",
   "metadata": {},
   "outputs": [
    {
     "name": "stdout",
     "output_type": "stream",
     "text": [
      "Расстояние Левенштейна между оригиналом и декодированным текстами: 507\n",
      "Расстояние Левенштейна между оригиналом и кодированным текстами: 526\n"
     ]
    }
   ],
   "source": [
    "print('Расстояние Левенштейна между оригиналом и декодированным текстами:', lev(example, decode_example))\n",
    "print('Расстояние Левенштейна между оригиналом и кодированным текстами:', lev(example, example_code))"
   ]
  },
  {
   "cell_type": "code",
   "execution_count": 111,
   "id": "72f68ff4",
   "metadata": {},
   "outputs": [],
   "source": [
    "# Получилось сильно хуже(\n",
    "# Пробовал без пробелов, тоже самое"
   ]
  },
  {
   "cell_type": "code",
   "execution_count": null,
   "id": "04663b0b",
   "metadata": {},
   "outputs": [],
   "source": []
  }
 ],
 "metadata": {
  "kernelspec": {
   "display_name": "Python 3 (ipykernel)",
   "language": "python",
   "name": "python3"
  },
  "language_info": {
   "codemirror_mode": {
    "name": "ipython",
    "version": 3
   },
   "file_extension": ".py",
   "mimetype": "text/x-python",
   "name": "python",
   "nbconvert_exporter": "python",
   "pygments_lexer": "ipython3",
   "version": "3.9.7"
  }
 },
 "nbformat": 4,
 "nbformat_minor": 5
}
